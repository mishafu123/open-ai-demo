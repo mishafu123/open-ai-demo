{
 "cells": [
  {
   "cell_type": "code",
   "execution_count": 23,
   "id": "f9b497ad-f6e7-4dcd-986f-1a59071f224d",
   "metadata": {},
   "outputs": [],
   "source": [
    "import openai\n",
    "from sk import my_sk\n",
    "import time"
   ]
  },
  {
   "cell_type": "code",
   "execution_count": 24,
   "id": "f5313d76-f5b5-442e-8f7d-6779c4c2b21c",
   "metadata": {},
   "outputs": [],
   "source": [
    "openai.api_key = my_sk #use imported secret key"
   ]
  },
  {
   "cell_type": "code",
   "execution_count": 25,
   "id": "829fea8a-6cc6-4177-9cef-368f7454f2a1",
   "metadata": {},
   "outputs": [],
   "source": [
    "#sets the preceding conversation\n",
    "messages_list = [\n",
    "    {\"role\": \"system\", \"content\": \"I am Taylor Swift's lyric completion assistant. When given a lyric line from a song, either from user or myself, I will provide the next line in the song.\"},\n",
    "    {\"role\": \"user\", \"content\": \"'Cause I don't know how it gets better than this\"},\n",
    "    {\"role\": \"assistant\", \"content\": \"You take my hand and drag me head first\"},\n",
    "    {\"role\": \"user\", \"content\": \"Fearless\"},\n",
    "    {\"role\": \"assistant\", \"content\": \"And I don't know why\"},\n",
    "    {\"role\": \"user\", \"content\": \"But with you I'd dance in a storm\"}\n",
    "]"
   ]
  },
  {
   "cell_type": "code",
   "execution_count": 26,
   "id": "6d22e174-5c02-4a4c-9bd4-be73038a0d46",
   "metadata": {},
   "outputs": [
    {
     "name": "stdout",
     "output_type": "stream",
     "text": [
      "In my best dress, fearless\n",
      "I hope you're happy now\n",
      "I hope you think that little black dress\n",
      "Think of my head on your chest\n"
     ]
    }
   ],
   "source": [
    "for i in range(4):\n",
    "    #create a chat completion\n",
    "    chat_completion = openai.ChatCompletion.create(\n",
    "        model = \"gpt-3.5-turbo\",\n",
    "        messages=messages_list,\n",
    "        max_tokens=15,\n",
    "        n = 1,\n",
    "        temperature = 0\n",
    "    )\n",
    "\n",
    "    #print the chat completion\n",
    "    response = chat_completion.choices[0].message[\"content\"]\n",
    "    print(response)\n",
    "    \n",
    "    #append response to messages_list, which will be fed right back to chatbot to get the next line, then next line, etc\n",
    "    new_message = {\"role\": \"assistant\", \"content\": response}\n",
    "    messages_list.append(new_message)\n",
    "    \n",
    "    time.sleep(0.1)"
   ]
  },
  {
   "cell_type": "code",
   "execution_count": null,
   "id": "d9980273-8a09-4bc4-a253-fa0d91549282",
   "metadata": {},
   "outputs": [],
   "source": []
  }
 ],
 "metadata": {
  "kernelspec": {
   "display_name": "Python 3 (ipykernel)",
   "language": "python",
   "name": "python3"
  },
  "language_info": {
   "codemirror_mode": {
    "name": "ipython",
    "version": 3
   },
   "file_extension": ".py",
   "mimetype": "text/x-python",
   "name": "python",
   "nbconvert_exporter": "python",
   "pygments_lexer": "ipython3",
   "version": "3.12.2"
  }
 },
 "nbformat": 4,
 "nbformat_minor": 5
}
