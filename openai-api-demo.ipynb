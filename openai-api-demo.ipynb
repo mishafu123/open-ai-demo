{
 "cells": [
  {
   "cell_type": "code",
   "execution_count": 6,
   "id": "03bcc295-c0f3-4f57-a114-b89b0c455997",
   "metadata": {},
   "outputs": [],
   "source": [
    "import openai\n",
    "from sk import my_sk\n",
    "import time"
   ]
  },
  {
   "cell_type": "code",
   "execution_count": 2,
   "id": "cde85a4e-3eef-481a-859d-102d95d8845b",
   "metadata": {},
   "outputs": [],
   "source": [
    "openai.api_key = my_sk #use imported secret key"
   ]
  },
  {
   "cell_type": "code",
   "execution_count": 3,
   "id": "9606a7b5-ce40-45e6-b5fc-63bc2721a944",
   "metadata": {},
   "outputs": [],
   "source": [
    "chat_completion = openai.ChatCompletion.create(model = \"gpt-3.5-turbo\", messages=[{\"role\": \"user\", \"content\": \"Listen to your\"}]) #using old version 0.28\n",
    "#you can do only one word answer/aka token: openai.ChatCompletion.create(model = \"gpt-3.5-turbo\", messages=[{\"role\": \"user\", \"content\": \"Listen to your\"}], max_tokens = 1)\n",
    "#you can do number of responses sent back: add n=5 for 5 responses\n",
    "#you can do temperature, = 0 is very deterministric, =2 is very random. temperature = 0 "
   ]
  },
  {
   "cell_type": "code",
   "execution_count": null,
   "id": "244af7f4-41cf-4ecc-b73c-a944498c0694",
   "metadata": {},
   "outputs": [],
   "source": [
    "#if you do n=5, you can print each response by:\n",
    "#for i in range(len(chat_completion.choices)):\n",
    "#    print(chat_completion.choices[i].message.content)"
   ]
  },
  {
   "cell_type": "code",
   "execution_count": 5,
   "id": "3ba5326f-1bc5-4d8a-8103-54b4d780dce1",
   "metadata": {},
   "outputs": [
    {
     "name": "stdout",
     "output_type": "stream",
     "text": [
      "heart, as it knows what is truly best for you. Trust your intuition and inner guidance to lead you in the right direction. Don't let outside influences or doubts cloud your judgment, but instead, follow the path that truly resonates with your soul. Remember, you have the power within you to make the right choices and create the life you desire. Trust yourself and have faith in your own abilities.\n"
     ]
    }
   ],
   "source": [
    "chat_completion.to_dict() #returned as json format/dictionary, choices hold the response\n",
    "print(chat_completion.choices[0].message.content #print the actual response"
   ]
  },
  {
   "cell_type": "code",
   "execution_count": null,
   "id": "1f0c9f6b-5726-49ff-a025-fb7ab6137dbd",
   "metadata": {},
   "outputs": [],
   "source": []
  },
  {
   "cell_type": "code",
   "execution_count": null,
   "id": "5262c1c4-11f9-4332-9f0a-0fb571cbe87b",
   "metadata": {},
   "outputs": [],
   "source": []
  },
  {
   "cell_type": "code",
   "execution_count": null,
   "id": "cb1ea5be-52c6-43b2-9c1e-8d781b89474f",
   "metadata": {},
   "outputs": [],
   "source": []
  },
  {
   "cell_type": "code",
   "execution_count": null,
   "id": "8af9d81e-2a95-44e0-bfa1-8627cc5b381f",
   "metadata": {},
   "outputs": [],
   "source": []
  },
  {
   "cell_type": "code",
   "execution_count": null,
   "id": "600f9807-d17a-415f-bfcf-f6294cb145ca",
   "metadata": {},
   "outputs": [],
   "source": []
  }
 ],
 "metadata": {
  "kernelspec": {
   "display_name": "Python 3 (ipykernel)",
   "language": "python",
   "name": "python3"
  },
  "language_info": {
   "codemirror_mode": {
    "name": "ipython",
    "version": 3
   },
   "file_extension": ".py",
   "mimetype": "text/x-python",
   "name": "python",
   "nbconvert_exporter": "python",
   "pygments_lexer": "ipython3",
   "version": "3.12.2"
  }
 },
 "nbformat": 4,
 "nbformat_minor": 5
}
